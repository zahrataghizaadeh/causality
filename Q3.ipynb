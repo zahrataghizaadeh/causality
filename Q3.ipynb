{
 "cells": [
  {
   "cell_type": "code",
   "execution_count": 1,
   "metadata": {},
   "outputs": [
    {
     "name": "stdout",
     "output_type": "stream",
     "text": [
      "(10000, 3)\n"
     ]
    },
    {
     "data": {
      "text/html": [
       "<div>\n",
       "<style scoped>\n",
       "    .dataframe tbody tr th:only-of-type {\n",
       "        vertical-align: middle;\n",
       "    }\n",
       "\n",
       "    .dataframe tbody tr th {\n",
       "        vertical-align: top;\n",
       "    }\n",
       "\n",
       "    .dataframe thead th {\n",
       "        text-align: right;\n",
       "    }\n",
       "</style>\n",
       "<table border=\"1\" class=\"dataframe\">\n",
       "  <thead>\n",
       "    <tr style=\"text-align: right;\">\n",
       "      <th></th>\n",
       "      <th>Hospital</th>\n",
       "      <th>Treatment</th>\n",
       "      <th>Recovery</th>\n",
       "    </tr>\n",
       "  </thead>\n",
       "  <tbody>\n",
       "    <tr>\n",
       "      <th>0</th>\n",
       "      <td>0</td>\n",
       "      <td>0</td>\n",
       "      <td>0.81</td>\n",
       "    </tr>\n",
       "    <tr>\n",
       "      <th>1</th>\n",
       "      <td>1</td>\n",
       "      <td>1</td>\n",
       "      <td>0.64</td>\n",
       "    </tr>\n",
       "    <tr>\n",
       "      <th>2</th>\n",
       "      <td>1</td>\n",
       "      <td>0</td>\n",
       "      <td>0.50</td>\n",
       "    </tr>\n",
       "    <tr>\n",
       "      <th>3</th>\n",
       "      <td>0</td>\n",
       "      <td>0</td>\n",
       "      <td>1.00</td>\n",
       "    </tr>\n",
       "    <tr>\n",
       "      <th>4</th>\n",
       "      <td>0</td>\n",
       "      <td>0</td>\n",
       "      <td>0.90</td>\n",
       "    </tr>\n",
       "    <tr>\n",
       "      <th>5</th>\n",
       "      <td>0</td>\n",
       "      <td>1</td>\n",
       "      <td>1.00</td>\n",
       "    </tr>\n",
       "    <tr>\n",
       "      <th>6</th>\n",
       "      <td>0</td>\n",
       "      <td>0</td>\n",
       "      <td>0.66</td>\n",
       "    </tr>\n",
       "    <tr>\n",
       "      <th>7</th>\n",
       "      <td>1</td>\n",
       "      <td>1</td>\n",
       "      <td>0.32</td>\n",
       "    </tr>\n",
       "    <tr>\n",
       "      <th>8</th>\n",
       "      <td>1</td>\n",
       "      <td>1</td>\n",
       "      <td>1.00</td>\n",
       "    </tr>\n",
       "    <tr>\n",
       "      <th>9</th>\n",
       "      <td>1</td>\n",
       "      <td>1</td>\n",
       "      <td>0.00</td>\n",
       "    </tr>\n",
       "  </tbody>\n",
       "</table>\n",
       "</div>"
      ],
      "text/plain": [
       "   Hospital  Treatment  Recovery\n",
       "0         0          0      0.81\n",
       "1         1          1      0.64\n",
       "2         1          0      0.50\n",
       "3         0          0      1.00\n",
       "4         0          0      0.90\n",
       "5         0          1      1.00\n",
       "6         0          0      0.66\n",
       "7         1          1      0.32\n",
       "8         1          1      1.00\n",
       "9         1          1      0.00"
      ]
     },
     "execution_count": 1,
     "metadata": {},
     "output_type": "execute_result"
    }
   ],
   "source": [
    "import pandas as pd\n",
    "data = pd.read_csv('hospital_data.csv')\n",
    "print(data.shape)\n",
    "data.head(10)"
   ]
  },
  {
   "cell_type": "markdown",
   "metadata": {},
   "source": [
    "### Q1"
   ]
  },
  {
   "cell_type": "code",
   "execution_count": 2,
   "metadata": {},
   "outputs": [
    {
     "name": "stdout",
     "output_type": "stream",
     "text": [
      "Treatment\n",
      "0    0.772246\n",
      "1    0.707093\n",
      "Name: Recovery, dtype: float64\n",
      "Based on the above results, treatment [0] which is the old method has a better recovery rate compared to treatment [1] which is the new method\n"
     ]
    }
   ],
   "source": [
    "average_recovery = data.groupby('Treatment')['Recovery'].mean()\n",
    "print(average_recovery)\n",
    "print('Based on the above results, treatment [0] which is the old method has a better recovery rate compared to treatment [1] which is the new method')"
   ]
  },
  {
   "cell_type": "markdown",
   "metadata": {},
   "source": [
    "### Q2"
   ]
  },
  {
   "cell_type": "code",
   "execution_count": 3,
   "metadata": {},
   "outputs": [
    {
     "name": "stdout",
     "output_type": "stream",
     "text": [
      "Treatment  Hospital\n",
      "0          0           0.804058\n",
      "           1           0.570209\n",
      "1          0           0.848616\n",
      "           1           0.650819\n",
      "Name: Recovery, dtype: float64\n"
     ]
    }
   ],
   "source": [
    "average_recovery_hospital = data.groupby(['Treatment', 'Hospital'])['Recovery'].mean()\n",
    "print(average_recovery_hospital)"
   ]
  },
  {
   "cell_type": "code",
   "execution_count": 4,
   "metadata": {},
   "outputs": [
    {
     "name": "stdout",
     "output_type": "stream",
     "text": [
      "Treatment effect difference in Hospital 0: 0.045\n",
      "This shows that the new treatment (T = 1) is better than the old treatment (T = 0) in Hospital 0.\n"
     ]
    }
   ],
   "source": [
    "# Treatment effect difference in Hospital 0\n",
    "treatment_effect_hospital_0 = average_recovery_hospital[1, 0] - average_recovery_hospital[0, 0]\n",
    "\n",
    "print(f\"Treatment effect difference in Hospital 0: {treatment_effect_hospital_0:.3f}\")\n",
    "if treatment_effect_hospital_0 > 0:\n",
    "    print(\"This shows that the new treatment (T = 1) is better than the old treatment (T = 0) in Hospital 0.\")\n",
    "else:\n",
    "    print(\"This shows that the old treatment (T = 0) is better than the new treatment (T = 1) in Hospital 0.\")\n"
   ]
  },
  {
   "cell_type": "code",
   "execution_count": 5,
   "metadata": {},
   "outputs": [
    {
     "name": "stdout",
     "output_type": "stream",
     "text": [
      "Treatment effect difference in Hospital 0: 0.081\n",
      "This shows that the new treatment (T = 1) is better than the old treatment (T = 0) in Hospital 1.\n"
     ]
    }
   ],
   "source": [
    "# Treatment effect difference in Hospital 1\n",
    "treatment_effect_hospital_1 = average_recovery_hospital[1, 1] - average_recovery_hospital[0, 1]\n",
    "\n",
    "print(f\"Treatment effect difference in Hospital 0: {treatment_effect_hospital_1:.3f}\")\n",
    "if treatment_effect_hospital_1 > 0:\n",
    "    print(\"This shows that the new treatment (T = 1) is better than the old treatment (T = 0) in Hospital 1.\")\n",
    "else:\n",
    "    print(\"This shows that the old treatment (T = 0) is better than the new treatment (T = 1) in Hospital 1.\")"
   ]
  },
  {
   "cell_type": "markdown",
   "metadata": {},
   "source": [
    "#### Comparison\n",
    "<div style=\"font-size:16px\">\n",
    "\n",
    "In both **Hospital 0** and **Hospital 1**, the treatment effect difference shows that the **new treatment (T = 1)** achieves better recovery outcomes compared to the **old treatment (T = 0)**.\n",
    "\n",
    "However, when considering the **overall results** from Task 1, it shows that the **old treatment (T = 0)** has a better recovery rate on average across all hospitals.  \n",
    "<br>\n",
    "So we are facing **Simpson’s Paradox**! =)\n",
    "\n",
    "</div>\n"
   ]
  },
  {
   "cell_type": "markdown",
   "metadata": {},
   "source": [
    "### Q3"
   ]
  },
  {
   "cell_type": "markdown",
   "metadata": {},
   "source": [
    "**Backdoor Criterion and Valid Adjustment Set**\n",
    "\n",
    "By using the provided DAG, we applied the **backdoor criterion** to estimate the causal effect of **T (Treatment)** on **R (Recovery)**.\n",
    "\n",
    "In the graph, **H (Hospital)** is a common cause (confounder) of both T and R, which opens a **backdoor path** from T to R through H. To block this path and satisfy the backdoor criterion, we must condition on H.\n",
    "\n",
    "Thus, **H is a valid adjustment set**.\n",
    "\n",
    "The causal effect of T on R can be computed by adjusting for H using the following formula:\n",
    "\n",
    "$$\n",
    "P(R \\mid \\text{do}(T)) = \\sum_{h} P(R \\mid T, H = h) \\cdot P(H = h)\n",
    "$$\n",
    "\n",
    "This formula marginalizes over the hospital variable \\( H \\), effectively controlling for confounding and yielding an unbiased estimate of the causal effect.\n"
   ]
  },
  {
   "cell_type": "code",
   "execution_count": 6,
   "metadata": {},
   "outputs": [
    {
     "data": {
      "text/plain": [
       "Treatment  Hospital\n",
       "0          0           0.804058\n",
       "           1           0.570209\n",
       "1          0           0.848616\n",
       "           1           0.650819\n",
       "Name: Recovery, dtype: float64"
      ]
     },
     "execution_count": 6,
     "metadata": {},
     "output_type": "execute_result"
    }
   ],
   "source": [
    "average_recovery_hospital"
   ]
  },
  {
   "cell_type": "code",
   "execution_count": 7,
   "metadata": {},
   "outputs": [
    {
     "name": "stdout",
     "output_type": "stream",
     "text": [
      "Percentage of patients in Hospital 0: 61.08 %\n",
      "Percentage of patients in Hospital 1: 38.92 %\n"
     ]
    }
   ],
   "source": [
    "H_1 = data['Hospital'].mean()     \n",
    "H_0 = 1 - H_1                        \n",
    "\n",
    "print(f\"Percentage of patients in Hospital 0: {H_0*100} %\")\n",
    "print(f\"Percentage of patients in Hospital 1: {H_1*100} %\")"
   ]
  },
  {
   "cell_type": "code",
   "execution_count": 8,
   "metadata": {},
   "outputs": [],
   "source": [
    "# Compute E[R | do(T=0)] = Σ_h P(R=1 | T=0, H=h) * P(H=h)\n",
    "\n",
    "recovery_do_T0 = average_recovery_hospital[0, 0] * H_0 + average_recovery_hospital[0, 1] * H_1\n",
    "\n",
    "# Compute E[R | do(T=1)] = Σ_h P(R=1 | T=1, H=h) * P(H=h)\n",
    "\n",
    "recovery_do_T1 = average_recovery_hospital[1, 0] * H_0 + average_recovery_hospital[1, 1] * H_1"
   ]
  },
  {
   "cell_type": "code",
   "execution_count": 9,
   "metadata": {},
   "outputs": [
    {
     "name": "stdout",
     "output_type": "stream",
     "text": [
      "\n",
      "Estimated recovery under old treatment (T = 0): 0.713\n",
      "Estimated recovery under new treatment (T = 1): 0.772\n",
      "\n",
      "The estimated causal effect of switching from the old treatment (T = 0) to the new treatment (T = 1) is: 0.059\n"
     ]
    }
   ],
   "source": [
    "print(f\"\\nEstimated recovery under old treatment (T = 0): {recovery_do_T0:.3f}\")\n",
    "print(f\"Estimated recovery under new treatment (T = 1): {recovery_do_T1:.3f}\")\n",
    "\n",
    "causal_effect = recovery_do_T1 - recovery_do_T0\n",
    "print(f\"\\nThe estimated causal effect of switching from the old treatment (T = 0) to the new treatment (T = 1) is: {causal_effect:.3f}\")"
   ]
  },
  {
   "cell_type": "code",
   "execution_count": 10,
   "metadata": {},
   "outputs": [
    {
     "data": {
      "text/html": [
       "<div>\n",
       "<style scoped>\n",
       "    .dataframe tbody tr th:only-of-type {\n",
       "        vertical-align: middle;\n",
       "    }\n",
       "\n",
       "    .dataframe tbody tr th {\n",
       "        vertical-align: top;\n",
       "    }\n",
       "\n",
       "    .dataframe thead th {\n",
       "        text-align: right;\n",
       "    }\n",
       "</style>\n",
       "<table border=\"1\" class=\"dataframe\">\n",
       "  <thead>\n",
       "    <tr style=\"text-align: right;\">\n",
       "      <th></th>\n",
       "      <th>T = 0</th>\n",
       "      <th>T = 1</th>\n",
       "    </tr>\n",
       "    <tr>\n",
       "      <th>Hospital</th>\n",
       "      <th></th>\n",
       "      <th></th>\n",
       "    </tr>\n",
       "  </thead>\n",
       "  <tbody>\n",
       "    <tr>\n",
       "      <th>0</th>\n",
       "      <td>4865</td>\n",
       "      <td>1243</td>\n",
       "    </tr>\n",
       "    <tr>\n",
       "      <th>1</th>\n",
       "      <td>766</td>\n",
       "      <td>3126</td>\n",
       "    </tr>\n",
       "  </tbody>\n",
       "</table>\n",
       "</div>"
      ],
      "text/plain": [
       "          T = 0  T = 1\n",
       "Hospital              \n",
       "0          4865   1243\n",
       "1           766   3126"
      ]
     },
     "metadata": {},
     "output_type": "display_data"
    }
   ],
   "source": [
    "# Create table of counts for Hospital and Treatment\n",
    "table = data.groupby(['Hospital', 'Treatment']).size().unstack()\n",
    "\n",
    "table.index.name = 'Hospital'\n",
    "table.columns.name = 'Treatment'\n",
    "table.columns = ['T = 0', 'T = 1']\n",
    "display(table)\n"
   ]
  },
  {
   "cell_type": "markdown",
   "metadata": {},
   "source": [
    "#### **Conclusion**\n",
    "\n",
    "<div style=\"font-size:16px\">\n",
    "\n",
    "- The **overall recovery rate** is higher for the **old treatment** (0.772) compared to the **new treatment** (0.707), which suggests the old treatment is more effective.\n",
    "- However, looking at the breakdown by **hospital**, we see a different story:\n",
    "  - In **Hospital 0**, the new treatment has a higher recovery rate (0.849 > 0.804).\n",
    "  - In **Hospital 1**, the new treatment again performs better (0.651 > 0.570).\n",
    "- This shows that the **new treatment is more effective within both hospitals**.\n",
    "- The misleading overall comparison is due to a **confounding variable**: Hospital. The old treatment was used much more often in Hospital 0, which has higher recovery rates overall.\n",
    "- Hospital influences both the treatment assigned and recovery.\n",
    "- By adjusting for hospital using the **backdoor criterion**, we isolate the true causal effect and find that the **new treatment is causally better** than the old one, despite what the raw averages initially suggest.\n",
    "\n",
    "</div>\n",
    "\n",
    "#### Table 1: Number of Patients by Treatment and Hospital\n",
    "\n",
    "| Treatment       | Hospital 0 | Hospital 1 |\n",
    "|------------------|------------|------------|\n",
    "| T = 0 (Old)      | 4865       | 766        |\n",
    "| T = 1 (New)      | 1243       | 3126       |\n",
    "\n",
    "#### Table 2: Average Recovery by Treatment and Hospital\n",
    "\n",
    "| Treatment       | Overall     | Hospital 0 | Hospital 1 |\n",
    "|------------------|-------------|-------------|-------------|\n",
    "| T = 0 (Old)      | 0.772       | 0.804       | 0.570       |\n",
    "| T = 1 (New)      | 0.707       | 0.849       | 0.651       |"
   ]
  }
 ],
 "metadata": {
  "kernelspec": {
   "display_name": "Python 3",
   "language": "python",
   "name": "python3"
  },
  "language_info": {
   "codemirror_mode": {
    "name": "ipython",
    "version": 3
   },
   "file_extension": ".py",
   "mimetype": "text/x-python",
   "name": "python",
   "nbconvert_exporter": "python",
   "pygments_lexer": "ipython3",
   "version": "3.13.2"
  }
 },
 "nbformat": 4,
 "nbformat_minor": 2
}
