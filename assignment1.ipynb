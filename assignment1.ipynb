{
 "cells": [
  {
   "cell_type": "code",
   "execution_count": 10,
   "metadata": {},
   "outputs": [],
   "source": [
    "import numpy as np\n",
    "import matplotlib.pyplot as plt\n",
    "from scipy.stats import ttest_ind\n"
   ]
  },
  {
   "cell_type": "markdown",
   "metadata": {},
   "source": [
    "The SEM is as follows:\n",
    "$$ \n",
    "A \\sim Bernoulli(0.5) \\\\\n",
    "X = 2A + \\epsilon_X, \\epsilon_X \\sim N(0, 1) \\\\  \n",
    "Y = 3X + A + \\epsilon_Y, \\epsilon_Y \\sim N(0, 1) \\\\\n",
    "$$\n"
   ]
  },
  {
   "cell_type": "markdown",
   "metadata": {},
   "source": [
    "a) Simulating the SEM with sample size 1000:"
   ]
  },
  {
   "cell_type": "code",
   "execution_count": 26,
   "metadata": {},
   "outputs": [
    {
     "data": {
      "image/png": "[encoded data removed]",
      "text/plain": [
       "<Figure size 640x480 with 1 Axes>"
      ]
     },
     "metadata": {},
     "output_type": "display_data"
    },
    {
     "name": "stdout",
     "output_type": "stream",
     "text": [
      "the correlation between A and Y is:  0.7558527285399719\n",
      "p-value for the hypothesis test is:  9.148386946761193e-186\n"
     ]
    }
   ],
   "source": [
    "# generating the data \n",
    "A = np.random.binomial(1, 0.5, 1000)\n",
    "X = 2 * A + np.random.normal(0, 1, 1000)\n",
    "Y = 3 * X + A + np.random.normal(0, 1, 1000)\n",
    "# plotting the histograms\n",
    "plt.hist(Y[A == 0], bins=30, alpha=0.5, label='A=0')\n",
    "plt.hist(Y[A == 1], bins=30, alpha=0.5, label='A=1')\n",
    "plt.legend()\n",
    "plt.show()\n",
    "\n",
    "\n",
    "# correlation between A and Y\n",
    "print(\"the correlation between A and Y is: \", np.corrcoef(A, Y)[0, 1])\n",
    "\n",
    "\n",
    "# hypothesis testing\n",
    "_, p = ttest_ind(Y[A == 0], Y[A == 1])\n",
    "print(\"p-value for the hypothesis test is: \", p)\n",
    "\n"
   ]
  },
  {
   "cell_type": "markdown",
   "metadata": {},
   "source": [
    "\n",
    "a) Based on the plot, it can be seen that there is a causal effect between A and Y, as when the value of A changes, the distribution of Y changes as well.\n",
    "\n",
    "\n",
    "b) The correlation between A and Y is high, and it also indicates that there is a causal effect between A and Y.\n",
    "\n",
    "\n",
    "c) The p-value is very small, which indicates that we can reject the null hypothesis that A and Y are independent. "
   ]
  },
  {
   "cell_type": "markdown",
   "metadata": {},
   "source": [
    "d) repeat for the noise std of $\\epsilon_X$ and $\\epsilon_Y$ to be 10:"
   ]
  },
  {
   "cell_type": "code",
   "execution_count": 31,
   "metadata": {},
   "outputs": [
    {
     "data": {
      "image/png": "[encoded data removed]",
      "text/plain": [
       "<Figure size 640x480 with 1 Axes>"
      ]
     },
     "metadata": {},
     "output_type": "display_data"
    },
    {
     "name": "stdout",
     "output_type": "stream",
     "text": [
      "the correlation between A and Y is:  0.1713282792889895\n",
      "p-value for the hypothesis test is:  4.995917492608738e-08\n"
     ]
    }
   ],
   "source": [
    "# generating the data \n",
    "A = np.random.binomial(1, 0.5, 1000)\n",
    "X = 2 * A + np.random.normal(0, 10, 1000)\n",
    "Y = 3 * X + A + np.random.normal(0, 10, 1000)\n",
    "\n",
    "# plotting the histograms\n",
    "plt.hist(Y[A == 0], bins=30, alpha=0.5, label='A=0')\n",
    "plt.hist(Y[A == 1], bins=30, alpha=0.5, label='A=1')\n",
    "plt.legend()\n",
    "plt.show()\n",
    "\n",
    "# correlation between A and Y\n",
    "print(\"the correlation between A and Y is: \", np.corrcoef(A, Y)[0, 1])\n",
    "\n",
    "# hypothesis testing\n",
    "_, p = ttest_ind(Y[A == 0], Y[A == 1])\n",
    "print(\"p-value for the hypothesis test is: \", p)\n",
    "\n",
    "\n"
   ]
  },
  {
   "cell_type": "markdown",
   "metadata": {},
   "source": [
    "a) The plot still shows a causal effect between A and Y, but the effect is less clear than before.\n",
    "\n",
    "b) The correlation between A and Y is weaker than before, and it can indicate that there is a causal effect between A and Y.\n",
    "\n",
    "c) The p-value is still small, but it is much larger than before, which indicates that we can still reject the null hypothesis that A and Y are independent, but with less confidence."
   ]
  }
 ],
 "metadata": {
  "kernelspec": {
   "display_name": "Python 3",
   "language": "python",
   "name": "python3"
  },
  "language_info": {
   "codemirror_mode": {
    "name": "ipython",
    "version": 3
   },
   "file_extension": ".py",
   "mimetype": "text/x-python",
   "name": "python",
   "nbconvert_exporter": "python",
   "pygments_lexer": "ipython3",
   "version": "3.10.16"
  }
 },
 "nbformat": 4,
 "nbformat_minor": 2
}
